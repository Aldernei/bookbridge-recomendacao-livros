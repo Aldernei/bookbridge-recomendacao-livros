{
  "nbformat": 4,
  "nbformat_minor": 0,
  "metadata": {
    "colab": {
      "provenance": [],
      "authorship_tag": "ABX9TyM1P9nvrvulU20KSxGqANzJ",
      "include_colab_link": true
    },
    "kernelspec": {
      "name": "python3",
      "display_name": "Python 3"
    },
    "language_info": {
      "name": "python"
    }
  },
  "cells": [
    {
      "cell_type": "markdown",
      "metadata": {
        "id": "view-in-github",
        "colab_type": "text"
      },
      "source": [
        "<a href=\"https://colab.research.google.com/github/Aldernei/bookbridge-recomendacao-livros/blob/feature5/bookbridgefeature5.ipynb\" target=\"_parent\"><img src=\"https://colab.research.google.com/assets/colab-badge.svg\" alt=\"Open In Colab\"/></a>"
      ]
    },
    {
      "cell_type": "code",
      "execution_count": 1,
      "metadata": {
        "colab": {
          "base_uri": "https://localhost:8080/"
        },
        "id": "d8ELh4V_D1TZ",
        "outputId": "d8615e00-7558-4127-8ef5-7d3781dcbb19"
      },
      "outputs": [
        {
          "output_type": "stream",
          "name": "stdout",
          "text": [
            "Tamanho do conjunto de treino: (13107, 1058)\n",
            "Tamanho do conjunto de teste: (3277, 1058)\n"
          ]
        }
      ],
      "source": [
        "import pandas as pd\n",
        "from sklearn.model_selection import train_test_split\n",
        "\n",
        "# Carregar os dados\n",
        "df = pd.read_csv('/content/dataset_processado.csv', on_bad_lines='skip', low_memory=False)\n",
        "\n",
        "# Criar a coluna alvo (good_rating)\n",
        "# Considera 'rating' acima de 3.0 como uma boa avaliação\n",
        "df['good_rating'] = (df['rating'] >= 3.0).astype(int)\n",
        "\n",
        "# Selecionar as features e o target\n",
        "X = df.drop(columns=['rating', 'good_rating'])  # Exclui a coluna 'rating' e a nova coluna alvo\n",
        "y = df['good_rating']  # Define a coluna alvo\n",
        "\n",
        "# Dividir os dados em conjuntos de treino e teste (80% treino e 20% teste)\n",
        "X_train, X_test, y_train, y_test = train_test_split(X, y, test_size=0.2, random_state=42)\n",
        "\n",
        "# Exibir os tamanhos dos conjuntos de treino e teste para verificação\n",
        "print(\"Tamanho do conjunto de treino:\", X_train.shape)\n",
        "print(\"Tamanho do conjunto de teste:\", X_test.shape)\n"
      ]
    },
    {
      "cell_type": "code",
      "source": [
        "from sklearn.metrics import accuracy_score, precision_score, recall_score\n",
        "\n",
        "# Fazer previsões no conjunto de teste\n",
        "y_pred = model.predict(X_test)\n",
        "\n",
        "# Calcular acurácia\n",
        "accuracy = accuracy_score(y_test, y_pred)\n",
        "print(\"Acurácia:\", accuracy)\n",
        "\n",
        "# Calcular precisão\n",
        "precision = precision_score(y_test, y_pred)\n",
        "print(\"Precisão:\", precision)\n",
        "\n",
        "# Calcular recall\n",
        "recall = recall_score(y_test, y_pred)\n",
        "print(\"Recall:\", recall)\n"
      ],
      "metadata": {
        "colab": {
          "base_uri": "https://localhost:8080/"
        },
        "id": "6HC0AziFUCQo",
        "outputId": "6e86c57b-f783-4342-bcaa-05393ea264ac"
      },
      "execution_count": 4,
      "outputs": [
        {
          "output_type": "stream",
          "name": "stdout",
          "text": [
            "Acurácia: 0.9972489683631361\n",
            "Precisão: 0.9960049170251998\n",
            "Recall: 0.9984596426370919\n"
          ]
        }
      ]
    }
  ]
}