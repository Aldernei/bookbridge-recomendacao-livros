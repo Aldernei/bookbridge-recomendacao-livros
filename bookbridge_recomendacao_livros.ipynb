{
  "nbformat": 4,
  "nbformat_minor": 0,
  "metadata": {
    "colab": {
      "provenance": [],
      "mount_file_id": "1WkfsoKZXwPuVg3mpQ0hyhYU1ZPXTj-vO",
      "authorship_tag": "ABX9TyMYL7C6AE858DIZ7fuIBOIA",
      "include_colab_link": true
    },
    "kernelspec": {
      "name": "python3",
      "display_name": "Python 3"
    },
    "language_info": {
      "name": "python"
    }
  },
  "cells": [
    {
      "cell_type": "markdown",
      "metadata": {
        "id": "view-in-github",
        "colab_type": "text"
      },
      "source": [
        "<a href=\"https://colab.research.google.com/github/Aldernei/bookbridge-recomendacao-livros/blob/main/bookbridge_recomendacao_livros.ipynb\" target=\"_parent\"><img src=\"https://colab.research.google.com/assets/colab-badge.svg\" alt=\"Open In Colab\"/></a>"
      ]
    },
    {
      "cell_type": "code",
      "source": [
        "# Bibliotecas de manipulação e análise de dados\n",
        "import pandas as pd\n",
        "import numpy as np\n",
        "\n",
        "# Visualização de dados\n",
        "import matplotlib.pyplot as plt\n",
        "import seaborn as sns\n",
        "\n",
        "# Bibliotecas de machine learning\n",
        "from sklearn.model_selection import train_test_split\n",
        "from sklearn.metrics import accuracy_score, precision_score, recall_score\n",
        "from sklearn.preprocessing import LabelEncoder, OneHotEncoder\n",
        "from sklearn.ensemble import RandomForestClassifier"
      ],
      "metadata": {
        "id": "TP82dq0MKKRr"
      },
      "execution_count": null,
      "outputs": []
    },
    {
      "cell_type": "code",
      "source": [
        "!pip install kaggle\n",
        "import os\n",
        "os.environ['KAGGLE_CONFIG_DIR'] = \"/content/\"\n",
        "\n",
        "# Baixar o dataset\n",
        "!kaggle datasets download -d pypiahmad/goodreads-book-reviews"
      ],
      "metadata": {
        "id": "LITXzFnIMkuT"
      },
      "execution_count": null,
      "outputs": []
    },
    {
      "cell_type": "code",
      "source": [
        "import pandas as pd\n",
        "import zipfile\n",
        "\n",
        "zip_path = '/content/goodreads-book-reviews.zip'\n",
        "\n",
        "# Extrair o conteúdo do ZIP\n",
        "with zipfile.ZipFile(zip_path, 'r') as zip_ref:\n",
        "    zip_ref.extractall('/content/dataset')"
      ],
      "metadata": {
        "id": "lyIptO46N_Cy"
      },
      "execution_count": null,
      "outputs": []
    },
    {
      "cell_type": "code",
      "source": [
        "# Listar os arquivos extraídos\n",
        "import os\n",
        "extracted_files = os.listdir('/content/dataset')\n",
        "# print(\"Arquivos extraídos:\", extracted_files)\n",
        "\n",
        "# Carregar uma amostra de 100.000 linhas\n",
        "csv_file_path = '/content/dataset/goodreads_reviews_dedup.json'  # Substitua pelo nome do arquivo CSV extraído\n",
        "sample_data = pd.read_json(csv_file_path, lines=True, nrows=100000)\n",
        "\n",
        "# Verificar as primeiras linhas da amostra\n",
        "# sample_data.head()\n"
      ],
      "metadata": {
        "id": "Ld-URgUUkf71"
      },
      "execution_count": null,
      "outputs": []
    }
  ]
}