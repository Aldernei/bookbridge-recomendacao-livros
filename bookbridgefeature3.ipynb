{
  "nbformat": 4,
  "nbformat_minor": 0,
  "metadata": {
    "colab": {
      "provenance": [],
      "authorship_tag": "ABX9TyMpg6z+jBeawX7Kb0u35Bme",
      "include_colab_link": true
    },
    "kernelspec": {
      "name": "python3",
      "display_name": "Python 3"
    },
    "language_info": {
      "name": "python"
    }
  },
  "cells": [
    {
      "cell_type": "markdown",
      "metadata": {
        "id": "view-in-github",
        "colab_type": "text"
      },
      "source": [
        "<a href=\"https://colab.research.google.com/github/Aldernei/bookbridge-recomendacao-livros/blob/feature3/bookbridgefeature3.ipynb\" target=\"_parent\"><img src=\"https://colab.research.google.com/assets/colab-badge.svg\" alt=\"Open In Colab\"/></a>"
      ]
    },
    {
      "cell_type": "code",
      "execution_count": 1,
      "metadata": {
        "colab": {
          "base_uri": "https://localhost:8080/"
        },
        "id": "r11X-oYMfNQx",
        "outputId": "e898057d-c548-466c-dca2-7591f3c16c0a"
      },
      "outputs": [
        {
          "output_type": "stream",
          "name": "stdout",
          "text": [
            "                                               genre  reviews  rating\n",
            "0  History,Military History,Civil War,American Hi...      5.0    3.52\n",
            "1          Couture,Fashion,Historical,Art,Nonfiction      6.0    4.51\n",
            "2                                   Politics,History      2.0    4.15\n",
            "3                                      Labor,History      1.0    3.83\n",
            "4                                                NaN      1.0    4.00\n"
          ]
        }
      ],
      "source": [
        "import pandas as pd\n",
        "\n",
        "# Carregar o CSV, ignorando linhas com erros\n",
        "df = pd.read_csv('/content/merged_dataset.csv')\n",
        "\n",
        "# Selecionar as colunas relevantes com os nomes corretos\n",
        "selected_columns = ['genre', 'reviews', 'rating']\n",
        "df = df[selected_columns]\n",
        "\n",
        "# Exibir as primeiras linhas para verificar\n",
        "print(df.head())\n"
      ]
    },
    {
      "cell_type": "code",
      "source": [
        "import pandas as pd\n",
        "from sklearn.preprocessing import StandardScaler, MultiLabelBinarizer\n",
        "\n",
        "# Carregar o CSV e remover valores ausentes\n",
        "df = pd.read_csv('/content/merged_dataset.csv', on_bad_lines='skip').dropna()\n",
        "\n",
        "# Verificar se a coluna 'genre' existe antes de prosseguir\n",
        "if 'genre' in df.columns:\n",
        "    # Separar os gêneros em listas\n",
        "    df['genre'] = df['genre'].apply(lambda x: x.split(','))\n",
        "\n",
        "    # Usar MultiLabelBinarizer para transformar gêneros em colunas binárias\n",
        "    mlb = MultiLabelBinarizer()\n",
        "    genres_transformed = mlb.fit_transform(df['genre'])\n",
        "    genres_df = pd.DataFrame(genres_transformed, columns=mlb.classes_, index=df.index)\n",
        "\n",
        "    # Concatenar as colunas de gênero binarizadas com o DataFrame original\n",
        "    df = pd.concat([df, genres_df], axis=1).drop(columns=['genre'])\n",
        "else:\n",
        "    print(\"A coluna 'genre' não está presente no DataFrame.\")\n",
        "\n",
        "# Separar as colunas numéricas e aplicar escalonamento aos dados numéricos\n",
        "numerical_features = ['reviews', 'rating']\n",
        "scaler = StandardScaler()\n",
        "df[numerical_features] = scaler.fit_transform(df[numerical_features])\n",
        "\n",
        "# Exibir uma amostra dos dados processados\n",
        "print(df.head())\n"
      ],
      "metadata": {
        "colab": {
          "base_uri": "https://localhost:8080/"
        },
        "id": "s2P-cXUZf8Pv",
        "outputId": "e8450a76-5069-4768-cd7f-72ddf77ee3eb"
      },
      "execution_count": 3,
      "outputs": [
        {
          "output_type": "stream",
          "name": "stdout",
          "text": [
            "                             author bookformat  \\\n",
            "0              Laurence M. Hauptman  Hardcover   \n",
            "1  Charlotte Fiell,Emmanuelle Dirix  Paperback   \n",
            "2                     Andy Anderson  Paperback   \n",
            "3              Carlotta R. Anderson  Hardcover   \n",
            "5                   Jeffrey Pfeffer  Hardcover   \n",
            "\n",
            "                                                desc  \\\n",
            "0  Reveals that several hundred thousand Indians ...   \n",
            "1  Fashion Sourcebook - 1920s is the first book i...   \n",
            "2  The seminal history and analysis of the Hungar...   \n",
            "3  \"All-American Anarchist\" chronicles the life a...   \n",
            "5  Why is common sense so uncommon when it comes ...   \n",
            "\n",
            "                                                 img        isbn    isbn13  \\\n",
            "0  https://i.gr-assets.com/images/S/compressed.ph...  002914180X  9.78E+12   \n",
            "1  https://i.gr-assets.com/images/S/compressed.ph...  1906863482  9.78E+12   \n",
            "2  https://i.gr-assets.com/images/S/compressed.ph...   948984147  9.78E+12   \n",
            "3  https://i.gr-assets.com/images/S/compressed.ph...   814327079  9.78E+12   \n",
            "5  https://i.gr-assets.com/images/S/compressed.ph...   875848419  9.78E+12   \n",
            "\n",
            "                                                link  pages    rating  \\\n",
            "0  https://goodreads.com/book/show/1001053.Betwee...    0.0 -1.037579   \n",
            "1  https://goodreads.com/book/show/10010552-fashi...  576.0  1.699286   \n",
            "2  https://goodreads.com/book/show/1001077.Hungar...  124.0  0.704063   \n",
            "3  https://goodreads.com/book/show/1001079.All_Am...  324.0 -0.180581   \n",
            "5  https://goodreads.com/book/show/1001090.The_Hu...  368.0 -0.457032   \n",
            "\n",
            "    reviews  ... Young Adult Paranormal  Young Adult Romance  \\\n",
            "0 -0.141201  ...                      0                    0   \n",
            "1 -0.140487  ...                      0                    0   \n",
            "2 -0.143344  ...                      0                    0   \n",
            "3 -0.144059  ...                      0                    0   \n",
            "5 -0.139772  ...                      0                    0   \n",
            "\n",
            "  Young Adult Science Fiction  Young Readers  Yuri  Zambia  Zen  Zimbabwe  \\\n",
            "0                           0              0     0       0    0         0   \n",
            "1                           0              0     0       0    0         0   \n",
            "2                           0              0     0       0    0         0   \n",
            "3                           0              0     0       0    0         0   \n",
            "5                           0              0     0       0    0         0   \n",
            "\n",
            "   Zombies  æ¼«ç”»  \n",
            "0        0       0  \n",
            "1        0       0  \n",
            "2        0       0  \n",
            "3        0       0  \n",
            "5        0       0  \n",
            "\n",
            "[5 rows x 1059 columns]\n"
          ]
        }
      ]
    }
  ]
}