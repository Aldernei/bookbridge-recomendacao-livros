{
  "nbformat": 4,
  "nbformat_minor": 0,
  "metadata": {
    "colab": {
      "provenance": [],
      "mount_file_id": "1WkfsoKZXwPuVg3mpQ0hyhYU1ZPXTj-vO",
      "authorship_tag": "ABX9TyP60U65z12RYBvBii6eF2jv",
      "include_colab_link": true
    },
    "kernelspec": {
      "name": "python3",
      "display_name": "Python 3"
    },
    "language_info": {
      "name": "python"
    }
  },
  "cells": [
    {
      "cell_type": "markdown",
      "metadata": {
        "id": "view-in-github",
        "colab_type": "text"
      },
      "source": [
        "<a href=\"https://colab.research.google.com/github/Aldernei/bookbridge-recomendacao-livros/blob/feature1/bookbridge_recomendacao_livros.ipynb\" target=\"_parent\"><img src=\"https://colab.research.google.com/assets/colab-badge.svg\" alt=\"Open In Colab\"/></a>"
      ]
    },
    {
      "cell_type": "code",
      "source": [
        "# Bibliotecas de manipulação e análise de dados\n",
        "import pandas as pd\n",
        "import numpy as np\n",
        "\n",
        "# Visualização de dados\n",
        "import matplotlib.pyplot as plt\n",
        "import seaborn as sns\n"
      ],
      "metadata": {
        "id": "TP82dq0MKKRr"
      },
      "execution_count": null,
      "outputs": []
    },
    {
      "cell_type": "code",
      "source": [
        "!pip install kaggle\n",
        "import os\n",
        "os.environ['KAGGLE_CONFIG_DIR'] = \"/content/\"\n",
        "\n",
        "# Baixar o dataset\n",
        "!kaggle datasets download -d pypiahmad/goodreads-book-reviews"
      ],
      "metadata": {
        "id": "LITXzFnIMkuT"
      },
      "execution_count": null,
      "outputs": []
    },
    {
      "cell_type": "code",
      "source": [
        "import zipfile\n",
        "\n",
        "zip_path = '/content/goodreads-book-reviews.zip'\n",
        "\n",
        "# Extrair o conteúdo do ZIP\n",
        "with zipfile.ZipFile(zip_path, 'r') as zip_ref:\n",
        "    zip_ref.extractall('/content/dataset')"
      ],
      "metadata": {
        "id": "lyIptO46N_Cy"
      },
      "execution_count": null,
      "outputs": []
    },
    {
      "cell_type": "code",
      "source": [
        "# Listar os arquivos extraídos\n",
        "import os\n",
        "extracted_files = os.listdir('/content/dataset')\n",
        "# print(\"Arquivos extraídos:\", extracted_files)\n",
        "\n",
        "# Carregar uma amostra de 100.000 linhas\n",
        "csv_file_path = '/content/dataset/goodreads_reviews_dedup.json'\n",
        "sample_data = pd.read_json(csv_file_path, lines=True, nrows=100000)\n",
        "\n",
        "# sample_data.head()"
      ],
      "metadata": {
        "id": "Ld-URgUUkf71"
      },
      "execution_count": 30,
      "outputs": []
    },
    {
      "cell_type": "code",
      "source": [
        "# Verificar a presença de valores ausentes ou duplicados em cada coluna\n",
        "print(\"Duplicatas:\", sample_data.duplicated().sum())\n",
        "print(\"Valores ausentes:\", sample_data.isnull().sum())"
      ],
      "metadata": {
        "id": "Dk02dX5TsIuP"
      },
      "execution_count": null,
      "outputs": []
    },
    {
      "cell_type": "code",
      "source": [
        "# Remover duplicatas e valores ausentes considerando `user_id` e `book_id`\n",
        "sample_data = sample_data.drop_duplicates(subset=['user_id', 'book_id'])\n",
        "sample_data = sample_data.dropna()"
      ],
      "metadata": {
        "id": "2L15YhcEssiP"
      },
      "execution_count": null,
      "outputs": []
    },
    {
      "cell_type": "code",
      "source": [
        "sample_data.info()"
      ],
      "metadata": {
        "id": "ocjrkN4YtMj3"
      },
      "execution_count": null,
      "outputs": []
    },
    {
      "cell_type": "code",
      "source": [
        "sample_data.head()"
      ],
      "metadata": {
        "id": "j_eb8iEM890E"
      },
      "execution_count": null,
      "outputs": []
    }
  ]
}